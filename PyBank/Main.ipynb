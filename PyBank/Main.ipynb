{
 "cells": [
  {
   "cell_type": "code",
   "execution_count": 26,
   "metadata": {},
   "outputs": [
    {
     "name": "stdout",
     "output_type": "stream",
     "text": [
      "Total Months: 86\n",
      "Total: $38382578\n",
      "Average Change: $-2315.12\n",
      "Greatest Increase in Profits: Feb-2012 ($1926159)\n",
      "Greatest Decrease in Profits: Sep-2013 ($-2196167)\n"
     ]
    }
   ],
   "source": [
    "from pathlib import Path\n",
    "import csv\n",
    "line_num = 0\n",
    "output_file = Path(\"financial_data.txt\")\n",
    "\n",
    "total_months = 0 \n",
    "total_pl = 0\n",
    "average_pl = 0\n",
    "maximum_pl= 0\n",
    "minimum_pl= 0\n",
    "count_pl = 0\n",
    "prev_month_pl = 0\n",
    "average_month_change = []\n",
    "maximum_pl_date = \"\"\n",
    "minimum_pl_date = \"\"\n",
    "\n",
    "with open('PyBank.csv')as csvfile:\n",
    "    csvreader = csv.reader(csvfile, delimiter=',')\n",
    "    header = next(csvreader)\n",
    "    line_num += 1\n",
    "\n",
    "#print(f\"{header} PyBank Analysis Report\")  \n",
    "\n",
    "\n",
    "    \n",
    "    for row in csvreader:\n",
    "        total_months = total_months+1\n",
    "        date = row [0]\n",
    "        pandl = int(row[1])\n",
    "        total_pl=total_pl+pandl\n",
    "        if total_months > 1:\n",
    "            average_pl = pandl - prev_month_pl\n",
    "            average_month_change.append(average_pl)\n",
    "            #maximum_pl = total_pl\n",
    "            if maximum_pl < average_pl:\n",
    "                maximum_pl = average_pl\n",
    "                maximum_pl_date = date\n",
    "            if minimum_pl > average_pl:\n",
    "                minimum_pl = average_pl\n",
    "                minimum_pl_date = date\n",
    "        \n",
    "        prev_month_pl = pandl\n",
    "        \n",
    "        \n",
    "       # print (date)\n",
    "        #print (pandl)\n",
    "        \n",
    "    print(f\"Total Months: {total_months}\")\n",
    "    print (f\"Total: ${total_pl}\")\n",
    "    print(f\"Average Change: ${round(sum(average_month_change)/len(average_month_change),2)}\")\n",
    "    print(f\"Greatest Increase in Profits: {maximum_pl_date} (${maximum_pl})\")\n",
    "    print(f\"Greatest Decrease in Profits: {minimum_pl_date} (${minimum_pl})\")\n",
    "with open(output_file, \"w\") as output_txt:\n",
    "    output_txt.write(f\"Financial Analysis \\n\")\n",
    "    output_txt.write(f\"------------------------ \\n\")\n",
    "    output_txt.write(f\"Total Months: {total_months} \\n\")\n",
    "    output_txt.write(f\"Total: ${total_pl} \\n\")\n",
    "    output_txt.write(f\"Average Change: ${round(sum(average_month_change)/len(average_month_change),2)} \\n\")\n",
    "    output_txt.write(f\"Greatest Increase in Profits: {maximum_pl_date} (${maximum_pl}) \\n\")\n",
    "    output_txt.write(f\"Greatest Decrease in Profits: {minimum_pl_date} (${minimum_pl}) \\n\")\n",
    "\n",
    "#for pandl in pandl:\n",
    "    \n",
    "       #total_pl += pandl\n",
    "        #count_pl += 1\n",
    "\n",
    "#if miminum_pl == 0:\n",
    "       # miminum_pl = pandl\n",
    "#elif maximum_plsalary >maximum_pl:\n",
    "       # maximum_pl = pandl\n",
    "#elif salary < miminum_pl:\n",
    "       # miminum_pls = pandl \n",
    "    \n",
    "#count_pl+= date\n",
    "#total_pl  = date\n",
    "\n",
    "#average_pl = round(total_pl / count_pl , 2)\n",
    "#average_change = round(total_pl / count_pl, 2)\n"
   ]
  },
  {
   "cell_type": "code",
   "execution_count": null,
   "metadata": {},
   "outputs": [],
   "source": []
  },
  {
   "cell_type": "code",
   "execution_count": null,
   "metadata": {},
   "outputs": [],
   "source": []
  },
  {
   "cell_type": "code",
   "execution_count": null,
   "metadata": {},
   "outputs": [],
   "source": []
  },
  {
   "cell_type": "code",
   "execution_count": null,
   "metadata": {},
   "outputs": [],
   "source": []
  },
  {
   "cell_type": "code",
   "execution_count": null,
   "metadata": {},
   "outputs": [],
   "source": []
  }
 ],
 "metadata": {
  "kernelspec": {
   "display_name": "Python 3",
   "language": "python",
   "name": "python3"
  },
  "language_info": {
   "codemirror_mode": {
    "name": "ipython",
    "version": 3
   },
   "file_extension": ".py",
   "mimetype": "text/x-python",
   "name": "python",
   "nbconvert_exporter": "python",
   "pygments_lexer": "ipython3",
   "version": "3.8.5"
  }
 },
 "nbformat": 4,
 "nbformat_minor": 4
}
