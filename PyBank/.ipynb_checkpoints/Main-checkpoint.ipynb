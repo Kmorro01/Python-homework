{
 "cells": [
  {
   "cell_type": "code",
   "execution_count": 6,
   "metadata": {},
   "outputs": [
    {
     "ename": "SyntaxError",
     "evalue": "invalid syntax (<ipython-input-6-e0ccd8a0f5fa>, line 18)",
     "output_type": "error",
     "traceback": [
      "\u001b[1;36m  File \u001b[1;32m\"<ipython-input-6-e0ccd8a0f5fa>\"\u001b[1;36m, line \u001b[1;32m18\u001b[0m\n\u001b[1;33m    total_months=0\u001b[0m\n\u001b[1;37m    ^\u001b[0m\n\u001b[1;31mSyntaxError\u001b[0m\u001b[1;31m:\u001b[0m invalid syntax\n"
     ]
    }
   ],
   "source": [
    "# Python-homework\n",
    "\n",
    "from pathlib import Path\n",
    "import csv\n",
    "line_num = 0\n",
    "\n",
    "with open('budget_data.csv')as csvfile:\n",
    "    csv_reader = csv.reader(csv_file, delimiter=',')\n",
    "    header = next(csv_reader)\n",
    "    line_num += 1\n",
    "\n",
    "    print(f\"{header} <---- PyBank Analysis Report\")  \n",
    "    for row in csvreader:\n",
    "        date = row [0]\n",
    "        profitandlosses = (row[1])\n",
    "        print (date)\n",
    "        print (profitandlosses              \n",
    "    total_months=0\n",
    "#variable to store total profit\n",
    "net_total=0\n",
    "#list for storing the months\n",
    "months_list=[]\n",
    "#list for storing the monthly profit\n",
    "profit_list=[]\n",
    "#list to store the profit change for each month\n",
    "profit_change_list=[]\n",
    "\n",
    "\n",
    "\n",
    "\n",
    "\n",
    " for current_row in csv_reader:\n",
    " #add the current amount to the total\n",
    "   #     net_total+=int(current_row[1])\n",
    "        #add the months to the list   \n",
    "        months_list.append(current_row[0])\n",
    "        profit_list.append(int(current_row[1]))\n",
    "\n",
    "if miminum_profitandlosses == 0:\n",
    "        miminum_profitandlosses = profitandlosses\n",
    "elif maximum_profitandlossessalary >maximum_profitandlosses:\n",
    "        maximum_profitandlosses = profitandlosses\n",
    "elif salary < miminum_profitandlosses:\n",
    "        miminum_profitandlosses = profitandlosses\n",
    "    \n",
    "count_profitandlosse+= date\n",
    "totalprofitandlosses = date\n",
    "\n",
    "average_profitandlosses  = round(total_profitandlosses / count_profitandlosse , 2)"
   ]
  },
  {
   "cell_type": "code",
   "execution_count": null,
   "metadata": {},
   "outputs": [],
   "source": []
  },
  {
   "cell_type": "code",
   "execution_count": null,
   "metadata": {},
   "outputs": [],
   "source": []
  }
 ],
 "metadata": {
  "kernelspec": {
   "display_name": "Python 3",
   "language": "python",
   "name": "python3"
  },
  "language_info": {
   "codemirror_mode": {
    "name": "ipython",
    "version": 3
   },
   "file_extension": ".py",
   "mimetype": "text/x-python",
   "name": "python",
   "nbconvert_exporter": "python",
   "pygments_lexer": "ipython3",
   "version": "3.8.5"
  }
 },
 "nbformat": 4,
 "nbformat_minor": 4
}
